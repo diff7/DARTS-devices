{
 "cells": [
  {
   "cell_type": "code",
   "execution_count": 12,
   "id": "d79e0f39-f210-45fe-acb6-00435d97bb1d",
   "metadata": {},
   "outputs": [],
   "source": [
    "class f:\n",
    "    def __init__(self):\n",
    "        self.d = []\n",
    "    def f(self, x):\n",
    "        print(\"ALILUYA\", x)"
   ]
  },
  {
   "cell_type": "code",
   "execution_count": 13,
   "id": "ed58ec97-c830-45cb-83b6-7787ae8f7a3e",
   "metadata": {},
   "outputs": [],
   "source": [
    "d = f()"
   ]
  },
  {
   "cell_type": "code",
   "execution_count": 14,
   "id": "6496be5b-f49b-4026-b71d-14ec1fd857fc",
   "metadata": {},
   "outputs": [],
   "source": [
    "def ff(d):\n",
    "    print(d)"
   ]
  },
  {
   "cell_type": "code",
   "execution_count": 15,
   "id": "2f79304b-dea3-45be-b2d7-1db80eb70c8e",
   "metadata": {},
   "outputs": [],
   "source": [
    "d = {1:0, 2:3}"
   ]
  },
  {
   "cell_type": "code",
   "execution_count": 17,
   "id": "078c17d4-c842-4098-b9b3-a0455f143e05",
   "metadata": {},
   "outputs": [],
   "source": [
    "import numpy as np"
   ]
  },
  {
   "cell_type": "code",
   "execution_count": null,
   "id": "c9ff787e-b251-4a29-9403-d59570591dfc",
   "metadata": {},
   "outputs": [],
   "source": [
    "numpy.load()"
   ]
  },
  {
   "cell_type": "code",
   "execution_count": null,
   "id": "1e38484c-2ece-40da-be00-ddff5e34f014",
   "metadata": {},
   "outputs": [],
   "source": [
    "np."
   ]
  }
 ],
 "metadata": {
  "kernelspec": {
   "display_name": "Python 3",
   "language": "python",
   "name": "python3"
  },
  "language_info": {
   "codemirror_mode": {
    "name": "ipython",
    "version": 3
   },
   "file_extension": ".py",
   "mimetype": "text/x-python",
   "name": "python",
   "nbconvert_exporter": "python",
   "pygments_lexer": "ipython3",
   "version": "3.7.7"
  }
 },
 "nbformat": 4,
 "nbformat_minor": 5
}
